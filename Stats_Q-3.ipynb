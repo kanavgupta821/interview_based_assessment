{
 "cells": [
  {
   "cell_type": "code",
   "execution_count": 1,
   "metadata": {},
   "outputs": [],
   "source": [
    "import pandas as pd\n",
    "import numpy as np\n",
    "import scipy.stats as stats\n",
    "import matplotlib.pyplot as plt"
   ]
  },
  {
   "cell_type": "code",
   "execution_count": 5,
   "metadata": {},
   "outputs": [
    {
     "data": {
      "text/html": [
       "<div>\n",
       "<style scoped>\n",
       "    .dataframe tbody tr th:only-of-type {\n",
       "        vertical-align: middle;\n",
       "    }\n",
       "\n",
       "    .dataframe tbody tr th {\n",
       "        vertical-align: top;\n",
       "    }\n",
       "\n",
       "    .dataframe thead th {\n",
       "        text-align: right;\n",
       "    }\n",
       "</style>\n",
       "<table border=\"1\" class=\"dataframe\">\n",
       "  <thead>\n",
       "    <tr style=\"text-align: right;\">\n",
       "      <th></th>\n",
       "      <th>Patient ID</th>\n",
       "      <th>Blood Pressure Before (mmHg)</th>\n",
       "      <th>Blood Pressure After (mmHg)</th>\n",
       "    </tr>\n",
       "  </thead>\n",
       "  <tbody>\n",
       "    <tr>\n",
       "      <th>0</th>\n",
       "      <td>1</td>\n",
       "      <td>130</td>\n",
       "      <td>120</td>\n",
       "    </tr>\n",
       "    <tr>\n",
       "      <th>1</th>\n",
       "      <td>2</td>\n",
       "      <td>142</td>\n",
       "      <td>135</td>\n",
       "    </tr>\n",
       "    <tr>\n",
       "      <th>2</th>\n",
       "      <td>3</td>\n",
       "      <td>120</td>\n",
       "      <td>118</td>\n",
       "    </tr>\n",
       "    <tr>\n",
       "      <th>3</th>\n",
       "      <td>4</td>\n",
       "      <td>135</td>\n",
       "      <td>127</td>\n",
       "    </tr>\n",
       "    <tr>\n",
       "      <th>4</th>\n",
       "      <td>5</td>\n",
       "      <td>148</td>\n",
       "      <td>140</td>\n",
       "    </tr>\n",
       "    <tr>\n",
       "      <th>...</th>\n",
       "      <td>...</td>\n",
       "      <td>...</td>\n",
       "      <td>...</td>\n",
       "    </tr>\n",
       "    <tr>\n",
       "      <th>95</th>\n",
       "      <td>96</td>\n",
       "      <td>136</td>\n",
       "      <td>129</td>\n",
       "    </tr>\n",
       "    <tr>\n",
       "      <th>96</th>\n",
       "      <td>97</td>\n",
       "      <td>143</td>\n",
       "      <td>137</td>\n",
       "    </tr>\n",
       "    <tr>\n",
       "      <th>97</th>\n",
       "      <td>98</td>\n",
       "      <td>127</td>\n",
       "      <td>123</td>\n",
       "    </tr>\n",
       "    <tr>\n",
       "      <th>98</th>\n",
       "      <td>99</td>\n",
       "      <td>139</td>\n",
       "      <td>135</td>\n",
       "    </tr>\n",
       "    <tr>\n",
       "      <th>99</th>\n",
       "      <td>100</td>\n",
       "      <td>135</td>\n",
       "      <td>130</td>\n",
       "    </tr>\n",
       "  </tbody>\n",
       "</table>\n",
       "<p>100 rows × 3 columns</p>\n",
       "</div>"
      ],
      "text/plain": [
       "    Patient ID   Blood Pressure Before (mmHg)   Blood Pressure After (mmHg)\n",
       "0            1                            130                           120\n",
       "1            2                            142                           135\n",
       "2            3                            120                           118\n",
       "3            4                            135                           127\n",
       "4            5                            148                           140\n",
       "..         ...                            ...                           ...\n",
       "95          96                            136                           129\n",
       "96          97                            143                           137\n",
       "97          98                            127                           123\n",
       "98          99                            139                           135\n",
       "99         100                            135                           130\n",
       "\n",
       "[100 rows x 3 columns]"
      ]
     },
     "execution_count": 5,
     "metadata": {},
     "output_type": "execute_result"
    }
   ],
   "source": [
    "df = pd.read_csv('data.csv')\n",
    "df"
   ]
  },
  {
   "cell_type": "code",
   "execution_count": 9,
   "metadata": {},
   "outputs": [
    {
     "data": {
      "text/plain": [
       "Index(['Patient ID', ' Blood Pressure Before (mmHg)',\n",
       "       ' Blood Pressure After (mmHg)'],\n",
       "      dtype='object')"
      ]
     },
     "execution_count": 9,
     "metadata": {},
     "output_type": "execute_result"
    }
   ],
   "source": [
    "df.columns"
   ]
  },
  {
   "cell_type": "markdown",
   "metadata": {},
   "source": [
    "## a. Measure the dispersion in both and interpret the results. "
   ]
  },
  {
   "cell_type": "code",
   "execution_count": 10,
   "metadata": {},
   "outputs": [
    {
     "name": "stdout",
     "output_type": "stream",
     "text": [
      "Range for 'Blood pressure before': 28\n"
     ]
    }
   ],
   "source": [
    "before = df[' Blood Pressure Before (mmHg)'].max() - df[' Blood Pressure Before (mmHg)'].min()\n",
    "print(f\"Range for 'Blood pressure before': {before}\")"
   ]
  },
  {
   "cell_type": "code",
   "execution_count": 11,
   "metadata": {},
   "outputs": [
    {
     "name": "stdout",
     "output_type": "stream",
     "text": [
      "Range for 'Blood pressure after': 23\n"
     ]
    }
   ],
   "source": [
    "after = df[' Blood Pressure After (mmHg)'].max() - df[' Blood Pressure After (mmHg)'].min()\n",
    "print(f\"Range for 'Blood pressure after': {after}\")"
   ]
  },
  {
   "cell_type": "markdown",
   "metadata": {},
   "source": [
    "### '''The range measures the spread of the data. In this case, the 'Blood Pressure Before' has a larger range of 28 mmHg compared to 'Blood Pressure After,' which has a range of 23 mmHg. This indicates that the values in the 'Blood Pressure Before' column are more dispersed or spread out compared to the 'Blood Pressure After' column.'''"
   ]
  },
  {
   "cell_type": "code",
   "execution_count": 18,
   "metadata": {},
   "outputs": [
    {
     "name": "stdout",
     "output_type": "stream",
     "text": [
      "Standard Deviation:\n",
      "Standard Deviation for 'Blood Pressure Before': 6.5652037287505385\n",
      "Standard Deviation for 'Blood Pressure After': 6.853495458523338\n",
      "----------------------------------------------------------------\n",
      "Variance:\n",
      "Variance for 'Blood Pressure Before': 43.10189999999998\n",
      "Variance for 'Blood Pressure After': 46.97040000000002\n"
     ]
    }
   ],
   "source": [
    "std_before = np.std(df[' Blood Pressure Before (mmHg)'])\n",
    "std_after = np.std(df[' Blood Pressure After (mmHg)'])\n",
    "\n",
    "var_before = np.var(df[' Blood Pressure Before (mmHg)'])\n",
    "var_after = np.var(df[' Blood Pressure After (mmHg)'])\n",
    "\n",
    "print(\"Standard Deviation:\")\n",
    "print(\"Standard Deviation for 'Blood Pressure Before':\", std_before)\n",
    "print(\"Standard Deviation for 'Blood Pressure After':\", std_after)\n",
    "print(\"----------------------------------------------------------------\")\n",
    "print(\"Variance:\")\n",
    "print(\"Variance for 'Blood Pressure Before':\", var_before)\n",
    "print(\"Variance for 'Blood Pressure After':\", var_after)"
   ]
  },
  {
   "cell_type": "markdown",
   "metadata": {},
   "source": [
    "## b. Calculate the mean and 5% confidence interval and plot it in a graph."
   ]
  },
  {
   "cell_type": "code",
   "execution_count": 20,
   "metadata": {},
   "outputs": [],
   "source": [
    "mean_before = np.mean(df[' Blood Pressure Before (mmHg)'])\n",
    "mean_after = np.mean(df[' Blood Pressure After (mmHg)'])\n",
    "\n",
    "std_before = np.std(df[' Blood Pressure Before (mmHg)'])\n",
    "std_after = np.std(df[' Blood Pressure After (mmHg)'])\n",
    "\n",
    "se_before = std_before / np.sqrt(len(df[' Blood Pressure Before (mmHg)']))\n",
    "se_after = std_after / np.sqrt(len(df[' Blood Pressure After (mmHg)']))\n",
    "\n",
    "ci_before = stats.t.interval(0.95, len(df[' Blood Pressure Before (mmHg)']) - 1, loc=mean_before, scale=se_before)\n",
    "ci_after = stats.t.interval(0.95, len(df[' Blood Pressure After (mmHg)']) - 1, loc=mean_after, scale=se_after)"
   ]
  },
  {
   "cell_type": "code",
   "execution_count": 21,
   "metadata": {},
   "outputs": [
    {
     "name": "stdout",
     "output_type": "stream",
     "text": [
      "Mean and Confidence Interval:\n",
      "Mean 'Blood Pressure Before': 133.91\n",
      "Confidence Interval 'Blood Pressure Before': (132.6073211471305, 135.2126788528695)\n",
      "Mean 'Blood Pressure After': 128.36\n",
      "Confidence Interval 'Blood Pressure After': (127.00011781341104, 129.719882186589)\n"
     ]
    }
   ],
   "source": [
    "print(\"Mean and Confidence Interval:\")\n",
    "print(\"Mean 'Blood Pressure Before':\", mean_before)\n",
    "print(\"Confidence Interval 'Blood Pressure Before':\", ci_before)\n",
    "print(\"Mean 'Blood Pressure After':\", mean_after)\n",
    "print(\"Confidence Interval 'Blood Pressure After':\", ci_after)"
   ]
  },
  {
   "cell_type": "markdown",
   "metadata": {},
   "source": [
    "### The mean 'Blood Pressure Before' is approximately 133.91 mmHg with a 5% confidence interval of (132.607, 135.2127) mmHg. This means that we are 95% confident that the true mean lies within this interval.\n",
    "### Similarly, The mean 'Blood Pressure After' is approximately 128.36 mmHg with a 5% confidence interval of (127, 129.7199) mmHg. This means that we are 95% confident that the true mean lies within this interval."
   ]
  },
  {
   "cell_type": "code",
   "execution_count": 22,
   "metadata": {},
   "outputs": [
    {
     "data": {
      "image/png": "[encoded data removed]",
      "text/plain": [
       "<Figure size 576x432 with 1 Axes>"
      ]
     },
     "metadata": {
      "needs_background": "light"
     },
     "output_type": "display_data"
    }
   ],
   "source": [
    "plt.figure(figsize=(8, 6))\n",
    "plt.errorbar(['Before', 'After'], [mean_before, mean_after], yerr=[ci_before[1] - mean_before, ci_after[1] - mean_after],\n",
    "             marker='o', linestyle='', capsize=5)\n",
    "plt.ylabel(\"Mean Blood Pressure (mmHg)\")\n",
    "plt.title(\"Mean Blood Pressure Before and After\")\n",
    "plt.show()"
   ]
  },
  {
   "cell_type": "markdown",
   "metadata": {},
   "source": [
    "## c. Calculate the Mean absolute deviation and Standard deviation and interpret the results. "
   ]
  },
  {
   "cell_type": "code",
   "execution_count": 23,
   "metadata": {},
   "outputs": [],
   "source": [
    "mad_before = np.mean(np.abs(df[' Blood Pressure Before (mmHg)'] - mean_before))\n",
    "mad_after = np.mean(np.abs(df[' Blood Pressure After (mmHg)'] - mean_after))"
   ]
  },
  {
   "cell_type": "code",
   "execution_count": 24,
   "metadata": {},
   "outputs": [
    {
     "name": "stdout",
     "output_type": "stream",
     "text": [
      "Mean Absolute Deviation:\n",
      "MAD for 'Blood Pressure Before': 5.7118\n",
      "MAD for 'Blood Pressure After': 5.9\n"
     ]
    }
   ],
   "source": [
    "print(\"Mean Absolute Deviation:\")\n",
    "print(\"MAD for 'Blood Pressure Before':\", mad_before)\n",
    "print(\"MAD for 'Blood Pressure After':\", mad_after)"
   ]
  },
  {
   "cell_type": "code",
   "execution_count": 26,
   "metadata": {},
   "outputs": [
    {
     "name": "stdout",
     "output_type": "stream",
     "text": [
      "Standard Deviation:\n",
      "Standard Deviation for 'Blood Pressure Before': 6.5652037287505385\n",
      "Standard Deviation for 'Blood Pressure After': 6.853495458523338\n"
     ]
    }
   ],
   "source": [
    "std_before = np.std(df[' Blood Pressure Before (mmHg)'])\n",
    "std_after = np.std(df[' Blood Pressure After (mmHg)'])\n",
    "\n",
    "print(\"Standard Deviation:\")\n",
    "print(\"Standard Deviation for 'Blood Pressure Before':\", std_before)\n",
    "print(\"Standard Deviation for 'Blood Pressure After':\", std_after)"
   ]
  },
  {
   "cell_type": "markdown",
   "metadata": {},
   "source": [
    "### The MAD measures the average deviation of each data point from the mean. For 'Blood Pressure Before,' the MAD is approximately 5.7118 mmHg, while the SD is 6.5652 mmHg. This indicates that, on average, the values in the 'Blood Pressure Before' column deviate by approximately 5.7118 mmHg from the mean, and the overall variability or dispersion of the data is captured by the SD of 6.562 mmHg.\n",
    "\n",
    "### The MAD measures the average deviation of each data point from the mean. For 'Blood PressureAfter,' the MAD is approximately 5.9 mmHg, while the SD is 6.8535 mmHg. This indicates that, on average, the values in the 'Blood Pressure After' column deviate by approximately 5.9 mmHg from the mean, and the overall variability or dispersion of the data is captured by the SD of 6.8535 mmHg."
   ]
  },
  {
   "cell_type": "code",
   "execution_count": null,
   "metadata": {},
   "outputs": [],
   "source": []
  },
  {
   "cell_type": "markdown",
   "metadata": {},
   "source": [
    "## d. Calculate the correlation coefficient and check the significance of it at 1% level of significance. "
   ]
  },
  {
   "cell_type": "code",
   "execution_count": 28,
   "metadata": {},
   "outputs": [
    {
     "name": "stdout",
     "output_type": "stream",
     "text": [
      "Correlation Coefficient:\n",
      "Correlation Coefficient: 0.9779485966556019\n",
      "p-value: 1.8097381433068541e-68\n",
      "There is a significant correlation between 'Blood Pressure Before' and 'Blood Pressure After' at the 1% level of significance.\n"
     ]
    }
   ],
   "source": [
    "correlation_coef, p_value = stats.pearsonr(df[' Blood Pressure Before (mmHg)'], df[' Blood Pressure After (mmHg)'])\n",
    "print(\"Correlation Coefficient:\")\n",
    "print(\"Correlation Coefficient:\", correlation_coef)\n",
    "print(\"p-value:\", p_value)\n",
    "\n",
    "# Check significance at 1% level\n",
    "alpha = 0.01\n",
    "if p_value < alpha:\n",
    "    print(\"There is a significant correlation between 'Blood Pressure Before' and 'Blood Pressure After' at the 1% level of significance.\")\n",
    "else:\n",
    "    print(\"There is no significant correlation between 'Blood Pressure Before' and 'Blood Pressure After' at the 1% level of significance.\")"
   ]
  },
  {
   "cell_type": "code",
   "execution_count": null,
   "metadata": {},
   "outputs": [],
   "source": []
  }
 ],
 "metadata": {
  "kernelspec": {
   "display_name": "Python 3",
   "language": "python",
   "name": "python3"
  },
  "language_info": {
   "codemirror_mode": {
    "name": "ipython",
    "version": 3
   },
   "file_extension": ".py",
   "mimetype": "text/x-python",
   "name": "python",
   "nbconvert_exporter": "python",
   "pygments_lexer": "ipython3",
   "version": "3.8.3"
  }
 },
 "nbformat": 4,
 "nbformat_minor": 4
}
