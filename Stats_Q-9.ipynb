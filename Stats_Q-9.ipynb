{
 "cells": [
  {
   "cell_type": "code",
   "execution_count": 2,
   "metadata": {},
   "outputs": [
    {
     "name": "stdout",
     "output_type": "stream",
     "text": [
      "One-way ANOVA test:\n",
      "Null Hypothesis (H0): The mean scores of all the students are the same.\n",
      "Alternative Hypothesis (HA): The mean scores of at least one student are different.\n",
      "F-statistic: 0.3236947791164659\n",
      "p-value: 0.7295954253321559\n",
      "Fail to reject the null hypothesis (H0)\n",
      "The mean scores of all the students are not significantly different.\n"
     ]
    }
   ],
   "source": [
    "import pandas as pd\n",
    "from scipy.stats import f_oneway\n",
    "\n",
    "# Scores data\n",
    "data = {\n",
    "    'Name': ['Karan', 'Deepa', 'Karthik', 'Chandan', 'Jeevan'],\n",
    "    'Exam 1': [85, 70, 90, 75, 95],\n",
    "    'Exam 2': [90, 80, 85, 70, 92],\n",
    "    'Exam 3': [92, 85, 88, 75, 96]\n",
    "}\n",
    "\n",
    "# Create a DataFrame\n",
    "df = pd.DataFrame(data)\n",
    "\n",
    "# Perform one-way ANOVA\n",
    "f_statistic, p_value = f_oneway(df['Exam 1'], df['Exam 2'], df['Exam 3'])\n",
    "\n",
    "# Print the results\n",
    "print(\"One-way ANOVA test:\")\n",
    "print(\"Null Hypothesis (H0): The mean scores of all the students are the same.\")\n",
    "print(\"Alternative Hypothesis (HA): The mean scores of at least one student are different.\")\n",
    "print(\"F-statistic:\", f_statistic)\n",
    "print(\"p-value:\", p_value)\n",
    "\n",
    "\n",
    "\n",
    "# Check conditions for the null hypothesis\n",
    "alpha = 0.05  # Significance level\n",
    "\n",
    "if p_value > alpha:\n",
    "    print(\"Fail to reject the null hypothesis (H0)\")\n",
    "    print(\"The mean scores of all the students are not significantly different.\")\n",
    "else:\n",
    "    print(\"Reject the null hypothesis (H0)\")\n",
    "    print(\"The mean scores of at least one student are significantly different.\")\n",
    "    # Identify the student with the highest score\n",
    "    highest_score_student = df.loc[df[['Exam 1', 'Exam 2', 'Exam 3']].sum(axis=1).idxmax()]['Name']\n",
    "    print(\"Student with the highest score:\", highest_score_student)"
   ]
  },
  {
   "cell_type": "code",
   "execution_count": null,
   "metadata": {},
   "outputs": [],
   "source": []
  }
 ],
 "metadata": {
  "kernelspec": {
   "display_name": "Python 3",
   "language": "python",
   "name": "python3"
  },
  "language_info": {
   "codemirror_mode": {
    "name": "ipython",
    "version": 3
   },
   "file_extension": ".py",
   "mimetype": "text/x-python",
   "name": "python",
   "nbconvert_exporter": "python",
   "pygments_lexer": "ipython3",
   "version": "3.8.3"
  }
 },
 "nbformat": 4,
 "nbformat_minor": 4
}
