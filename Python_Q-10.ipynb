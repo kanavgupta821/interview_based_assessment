{
  "nbformat": 4,
  "nbformat_minor": 0,
  "metadata": {
    "colab": {
      "provenance": []
    },
    "kernelspec": {
      "name": "python3",
      "display_name": "Python 3"
    },
    "language_info": {
      "name": "python"
    }
  },
  "cells": [
    {
      "cell_type": "markdown",
      "source": [
        "## spacy\n",
        "### Spacy is an open-source library for natural language processing (NLP) in Python. Spacy can assign grammatical tags to each token, such as noun, verb, adjective, etc."
      ],
      "metadata": {
        "id": "ePn8vadQsAX3"
      }
    },
    {
      "cell_type": "code",
      "execution_count": 2,
      "metadata": {
        "id": "mLKWPidcqz2j"
      },
      "outputs": [],
      "source": [
        "import spacy\n",
        "\n",
        "def counter(string):\n",
        "\n",
        "    x = spacy.load('en_core_web_sm')           # Load the language model\n",
        "\n",
        "    y = x(string)                              # Process the text\n",
        "\n",
        "    counts = {\n",
        "        'verbs': 0,\n",
        "        'nouns': 0,\n",
        "        'pronouns': 0,\n",
        "        'adjectives': 0\n",
        "    }\n",
        "\n",
        "    for i in y:                                # Iterate over each token in the document\n",
        "        a = i.pos_\n",
        "        \n",
        "        if a == 'VERB':\n",
        "            counts['verbs'] += 1\n",
        "        elif a == 'NOUN':\n",
        "            counts['nouns'] += 1\n",
        "        elif a == 'PRON':\n",
        "            counts['pronouns'] += 1\n",
        "        elif a == 'ADJ':\n",
        "            counts['adjectives'] += 1\n",
        "\n",
        "    return counts"
      ]
    },
    {
      "cell_type": "code",
      "source": [
        "counter('The curious cat chased the fluttering butterfly through the lush green garden.')"
      ],
      "metadata": {
        "colab": {
          "base_uri": "https://localhost:8080/"
        },
        "id": "ymrCzJKgq7RQ",
        "outputId": "985edce5-2788-414a-e749-de68c890d0ab"
      },
      "execution_count": 3,
      "outputs": [
        {
          "output_type": "execute_result",
          "data": {
            "text/plain": [
              "{'verbs': 2, 'nouns': 3, 'pronouns': 0, 'adjectives': 3}"
            ]
          },
          "metadata": {},
          "execution_count": 3
        }
      ]
    },
    {
      "cell_type": "code",
      "source": [
        "counter('In the distance, the waves crashed against the rocky shoreline, creating a mesmerizing symphony of sound.')"
      ],
      "metadata": {
        "colab": {
          "base_uri": "https://localhost:8080/"
        },
        "id": "2HGL9RefsWL-",
        "outputId": "59017bd0-1f4d-48d5-e6c4-9abaaa2339e1"
      },
      "execution_count": 4,
      "outputs": [
        {
          "output_type": "execute_result",
          "data": {
            "text/plain": [
              "{'verbs': 3, 'nouns': 5, 'pronouns': 0, 'adjectives': 1}"
            ]
          },
          "metadata": {},
          "execution_count": 4
        }
      ]
    },
    {
      "cell_type": "code",
      "source": [
        "counter('After a long day at work, Sarah enjoyed a relaxing bubble bath while sipping on a glass of red wine.')"
      ],
      "metadata": {
        "colab": {
          "base_uri": "https://localhost:8080/"
        },
        "id": "_bAKjH8GsbOR",
        "outputId": "6307be2d-9dec-4406-817a-51e49a03b5fc"
      },
      "execution_count": 5,
      "outputs": [
        {
          "output_type": "execute_result",
          "data": {
            "text/plain": [
              "{'verbs': 2, 'nouns': 6, 'pronouns': 0, 'adjectives': 3}"
            ]
          },
          "metadata": {},
          "execution_count": 5
        }
      ]
    },
    {
      "cell_type": "code",
      "source": [
        "counter('As the sun set behind the mountains, painting the sky in shades of orange and pink, a sense of tranquility filled the air.')"
      ],
      "metadata": {
        "colab": {
          "base_uri": "https://localhost:8080/"
        },
        "id": "ZRH6_GxTslka",
        "outputId": "297908c0-1e7a-45ff-9522-bfad0896458a"
      },
      "execution_count": 6,
      "outputs": [
        {
          "output_type": "execute_result",
          "data": {
            "text/plain": [
              "{'verbs': 3, 'nouns': 8, 'pronouns': 0, 'adjectives': 1}"
            ]
          },
          "metadata": {},
          "execution_count": 6
        }
      ]
    },
    {
      "cell_type": "code",
      "source": [],
      "metadata": {
        "id": "2vx_3UFrss-G"
      },
      "execution_count": null,
      "outputs": []
    }
  ]
}