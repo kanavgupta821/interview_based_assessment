{
  "nbformat": 4,
  "nbformat_minor": 0,
  "metadata": {
    "colab": {
      "provenance": []
    },
    "kernelspec": {
      "name": "python3",
      "display_name": "Python 3"
    },
    "language_info": {
      "name": "python"
    }
  },
  "cells": [
    {
      "cell_type": "markdown",
      "source": [
        "##Question 2: -\n",
        "###Consider a string to be valid if all characters of the string appear the same number of times. It is also valid if he can remove just one character at the index in the string, and the remaining characters will occur the same number of times. Given a string, determine if it is valid. If so, return YES , otherwise return NO .\n",
        "\n",
        "###Note - You have to write at least 2 additional test cases in which your program will run successfully and provide an explanation for the same.\n",
        "###Example input 1 - s = “abc”. This is a valid string because frequencies are { “a”: 1, “b”: 1, “c”: 1 }\n",
        "###Example output 1- YES\n",
        "###Example input 2 - s “abccc”. This string is not valid as we can remove only 1 occurrence of “c”. That leaves character frequencies of { “a”: 1, “b”: 1 , “c”: 2 }\n",
        "###Example output 2 - NO"
      ],
      "metadata": {
        "id": "Hb-c2vqKVPrS"
      }
    },
    {
      "cell_type": "code",
      "source": [
        "def valid(s):\n",
        "  d={}\n",
        "  for i in s:\n",
        "    if i in d:\n",
        "      d[i] += 1\n",
        "    else:\n",
        "      d[i] = 1\n",
        "  print(d)                    # return different letters and their corresponding count\n",
        "  l=list(d.values())\n",
        "  m=max(l)\n",
        "  b=min(l)\n",
        "  print(l)\n",
        "  print(f'Max. count is {m}')\n",
        "  print(f'Min. count is {b}')\n",
        "  if l.count(m)==len(l):\n",
        "    return 'YES'\n",
        "  elif l.count(m)==len(l)-1 and (l.count(b)==1) and (m-b == 1 or b==1):\n",
        "    return 'YES'\n",
        "  elif (l.count(b)==len(l)-1) and (l.count(m)==1) and (m-b == 1 or m==1):\n",
        "    return 'YES'\n",
        "  elif abs(m-b)>1 or l.count(m)>1:\n",
        "    return 'NO'\n",
        "  else:\n",
        "    return 'NO'"
      ],
      "metadata": {
        "id": "9pBs49vNVQfp"
      },
      "execution_count": 3,
      "outputs": []
    },
    {
      "cell_type": "code",
      "source": [
        "valid('abc')"
      ],
      "metadata": {
        "colab": {
          "base_uri": "https://localhost:8080/",
          "height": 105
        },
        "id": "ckjjCRuQXOCN",
        "outputId": "399b76c0-9cce-49bb-b692-a3d327f4ead6"
      },
      "execution_count": 4,
      "outputs": [
        {
          "output_type": "stream",
          "name": "stdout",
          "text": [
            "{'a': 1, 'b': 1, 'c': 1}\n",
            "[1, 1, 1]\n",
            "Max. count is 1\n",
            "Min. count is 1\n"
          ]
        },
        {
          "output_type": "execute_result",
          "data": {
            "text/plain": [
              "'YES'"
            ],
            "application/vnd.google.colaboratory.intrinsic+json": {
              "type": "string"
            }
          },
          "metadata": {},
          "execution_count": 4
        }
      ]
    },
    {
      "cell_type": "code",
      "source": [
        "valid('abccc')"
      ],
      "metadata": {
        "colab": {
          "base_uri": "https://localhost:8080/",
          "height": 105
        },
        "id": "qolH5nXGXSJv",
        "outputId": "1998ce31-d29e-49aa-d071-18be463c550d"
      },
      "execution_count": 5,
      "outputs": [
        {
          "output_type": "stream",
          "name": "stdout",
          "text": [
            "{'a': 1, 'b': 1, 'c': 3}\n",
            "[1, 1, 3]\n",
            "Max. count is 3\n",
            "Min. count is 1\n"
          ]
        },
        {
          "output_type": "execute_result",
          "data": {
            "text/plain": [
              "'NO'"
            ],
            "application/vnd.google.colaboratory.intrinsic+json": {
              "type": "string"
            }
          },
          "metadata": {},
          "execution_count": 5
        }
      ]
    },
    {
      "cell_type": "code",
      "source": [
        "valid('aaabbbcccc')"
      ],
      "metadata": {
        "colab": {
          "base_uri": "https://localhost:8080/",
          "height": 105
        },
        "id": "9r7yrbvRYO5B",
        "outputId": "deafc3fd-08c4-4b07-f61e-aa1d53c9695c"
      },
      "execution_count": 6,
      "outputs": [
        {
          "output_type": "stream",
          "name": "stdout",
          "text": [
            "{'a': 3, 'b': 3, 'c': 4}\n",
            "[3, 3, 4]\n",
            "Max. count is 4\n",
            "Min. count is 3\n"
          ]
        },
        {
          "output_type": "execute_result",
          "data": {
            "text/plain": [
              "'YES'"
            ],
            "application/vnd.google.colaboratory.intrinsic+json": {
              "type": "string"
            }
          },
          "metadata": {},
          "execution_count": 6
        }
      ]
    },
    {
      "cell_type": "code",
      "source": [
        "valid('aaaabbcc')"
      ],
      "metadata": {
        "colab": {
          "base_uri": "https://localhost:8080/",
          "height": 105
        },
        "id": "vRYRPfzFYgfI",
        "outputId": "8e0b8485-1917-4334-8fe6-79a73eb8c1c1"
      },
      "execution_count": 9,
      "outputs": [
        {
          "output_type": "stream",
          "name": "stdout",
          "text": [
            "{'a': 4, 'b': 2, 'c': 2}\n",
            "[4, 2, 2]\n",
            "Max. count is 4\n",
            "Min. count is 2\n"
          ]
        },
        {
          "output_type": "execute_result",
          "data": {
            "text/plain": [
              "'NO'"
            ],
            "application/vnd.google.colaboratory.intrinsic+json": {
              "type": "string"
            }
          },
          "metadata": {},
          "execution_count": 9
        }
      ]
    },
    {
      "cell_type": "code",
      "source": [],
      "metadata": {
        "id": "4eNZTHZKYkwD"
      },
      "execution_count": null,
      "outputs": []
    }
  ]
}