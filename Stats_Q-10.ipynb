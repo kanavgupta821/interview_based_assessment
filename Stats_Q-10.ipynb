{
 "cells": [
  {
   "cell_type": "code",
   "execution_count": 1,
   "metadata": {},
   "outputs": [
    {
     "name": "stdout",
     "output_type": "stream",
     "text": [
      "Probability of exactly 20 defective bulbs: 0.051616192536642215\n",
      "Probability of at least 10 defective bulbs: 0.9998316463654902\n",
      "Probability of at most 15 defective bulbs: 0.01985837716299813\n",
      "Expected number of defective bulbs: 25.0\n"
     ]
    }
   ],
   "source": [
    "import scipy.stats as stats\n",
    "\n",
    "defective_probability = 0.05\n",
    "total_bulbs = 500\n",
    "\n",
    "# a. Probability of exactly 20 defective bulbs\n",
    "exactly_20_defective = stats.binom.pmf(20, total_bulbs, defective_probability)\n",
    "print(\"Probability of exactly 20 defective bulbs:\", exactly_20_defective)\n",
    "\n",
    "# b. Probability of at least 10 defective bulbs\n",
    "at_least_10_defective = 1 - stats.binom.cdf(9, total_bulbs, defective_probability)\n",
    "print(\"Probability of at least 10 defective bulbs:\", at_least_10_defective)\n",
    "\n",
    "# c. Probability of at most 15 defective bulbs\n",
    "at_most_15_defective = stats.binom.cdf(15, total_bulbs, defective_probability)\n",
    "print(\"Probability of at most 15 defective bulbs:\", at_most_15_defective)\n",
    "\n",
    "# d. Expected number of defective bulbs\n",
    "expected_defective = total_bulbs * defective_probability\n",
    "print(\"Expected number of defective bulbs:\", expected_defective)\n"
   ]
  },
  {
   "cell_type": "code",
   "execution_count": null,
   "metadata": {},
   "outputs": [],
   "source": []
  }
 ],
 "metadata": {
  "kernelspec": {
   "display_name": "Python 3",
   "language": "python",
   "name": "python3"
  },
  "language_info": {
   "codemirror_mode": {
    "name": "ipython",
    "version": 3
   },
   "file_extension": ".py",
   "mimetype": "text/x-python",
   "name": "python",
   "nbconvert_exporter": "python",
   "pygments_lexer": "ipython3",
   "version": "3.8.3"
  }
 },
 "nbformat": 4,
 "nbformat_minor": 4
}
