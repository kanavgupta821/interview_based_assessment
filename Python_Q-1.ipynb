{
  "nbformat": 4,
  "nbformat_minor": 0,
  "metadata": {
    "colab": {
      "provenance": []
    },
    "kernelspec": {
      "name": "python3",
      "display_name": "Python 3"
    },
    "language_info": {
      "name": "python"
    }
  },
  "cells": [
    {
      "cell_type": "markdown",
      "source": [
        "##Question 1: - \n",
        "###Write a program that takes a string as input, and counts the frequency of each word in the string, there might be repeated characters in the string. Your task is to find the highest frequency and returns the length of the highest-frequency word. \n",
        "###Note - You have to write at least 2 additional test cases in which your program will run successfully and provide an explanation for the same. \n",
        "###Example input - string = “write write write all the number from from from 1 to 100” \n",
        "###Example output - 5 \n",
        "###Explanation - From the given string we can note that the most frequent words are “write” and “from” and the maximum value of both the values is “write” and its corresponding length is 5 \n"
      ],
      "metadata": {
        "id": "6-tA_f02pYck"
      }
    },
    {
      "cell_type": "code",
      "source": [
        "def highest_frequency(s):\n",
        "  s = s.lower().replace(\",\", \"\").replace(\".\", \"\").replace(\"!\", \"\").replace(\"?\", \"\")         # remove special characters from the string\n",
        "  l = s.split(' ')\n",
        "  x = {}\n",
        "  for i in l:\n",
        "    if i in x:\n",
        "      x[i] += 1\n",
        "    else:\n",
        "      x[i] = 1\n",
        "  print(x)                     # this will return a dictionary with words as keys and there frequency count as values\n",
        "  l1 = {}\n",
        "  for i,j in x.items():\n",
        "    if j == max(x.values()):\n",
        "      l1[i] = len(i)\n",
        "  print(l1)                    # returns the dictionary of words which comes most number of times in a string along with their length\n",
        "  for i,j in l1.items():\n",
        "    if j == max(l1.values()):\n",
        "      return f'Maximum times occuring word and its corresponding frequency is {i,j}'\n",
        "\n"
      ],
      "metadata": {
        "id": "Oxp_Nar9MUw-"
      },
      "execution_count": 30,
      "outputs": []
    },
    {
      "cell_type": "code",
      "source": [
        "highest_frequency(\"write write write all the number from from from 1 to 100\")"
      ],
      "metadata": {
        "colab": {
          "base_uri": "https://localhost:8080/",
          "height": 70
        },
        "id": "4ohDVqzSN-od",
        "outputId": "112d2513-ec10-441e-fe10-f415333c3747"
      },
      "execution_count": 31,
      "outputs": [
        {
          "output_type": "stream",
          "name": "stdout",
          "text": [
            "{'write': 3, 'all': 1, 'the': 1, 'number': 1, 'from': 3, '1': 1, 'to': 1, '100': 1}\n",
            "{'write': 5, 'from': 4}\n"
          ]
        },
        {
          "output_type": "execute_result",
          "data": {
            "text/plain": [
              "\"Maximum times occuring word and its corresponding frequency is ('write', 5)\""
            ],
            "application/vnd.google.colaboratory.intrinsic+json": {
              "type": "string"
            }
          },
          "metadata": {},
          "execution_count": 31
        }
      ]
    },
    {
      "cell_type": "code",
      "source": [
        "highest_frequency(\"The vibrant, bustling city was filled with the melodic sounds of laughter, laughter that echoed through the streets, filling the air with joyous echoes of happiness.\")"
      ],
      "metadata": {
        "id": "IfEhI5NEGwig",
        "colab": {
          "base_uri": "https://localhost:8080/",
          "height": 90
        },
        "outputId": "b91d2b7e-0228-4b50-ec9b-1e10f0064439"
      },
      "execution_count": 32,
      "outputs": [
        {
          "output_type": "stream",
          "name": "stdout",
          "text": [
            "{'the': 4, 'vibrant': 1, 'bustling': 1, 'city': 1, 'was': 1, 'filled': 1, 'with': 2, 'melodic': 1, 'sounds': 1, 'of': 2, 'laughter': 2, 'that': 1, 'echoed': 1, 'through': 1, 'streets': 1, 'filling': 1, 'air': 1, 'joyous': 1, 'echoes': 1, 'happiness': 1}\n",
            "{'the': 3}\n"
          ]
        },
        {
          "output_type": "execute_result",
          "data": {
            "text/plain": [
              "\"Maximum times occuring word and its corresponding frequency is ('the', 3)\""
            ],
            "application/vnd.google.colaboratory.intrinsic+json": {
              "type": "string"
            }
          },
          "metadata": {},
          "execution_count": 32
        }
      ]
    },
    {
      "cell_type": "code",
      "source": [
        "highest_frequency(\"The serene sunset painted the sky with a tapestry of warm hues, casting a tranquil tranquil ambiance over the tranquil landscape.\")"
      ],
      "metadata": {
        "id": "b0P1cLuJGwl2",
        "colab": {
          "base_uri": "https://localhost:8080/",
          "height": 90
        },
        "outputId": "26fcb73a-1c84-412c-f844-8a44c0802279"
      },
      "execution_count": 34,
      "outputs": [
        {
          "output_type": "stream",
          "name": "stdout",
          "text": [
            "{'the': 3, 'serene': 1, 'sunset': 1, 'painted': 1, 'sky': 1, 'with': 1, 'a': 2, 'tapestry': 1, 'of': 1, 'warm': 1, 'hues': 1, 'casting': 1, 'tranquil': 3, 'ambiance': 1, 'over': 1, 'landscape': 1}\n",
            "{'the': 3, 'tranquil': 8}\n"
          ]
        },
        {
          "output_type": "execute_result",
          "data": {
            "text/plain": [
              "\"Maximum times occuring word and its corresponding frequency is ('tranquil', 8)\""
            ],
            "application/vnd.google.colaboratory.intrinsic+json": {
              "type": "string"
            }
          },
          "metadata": {},
          "execution_count": 34
        }
      ]
    }
  ]
}